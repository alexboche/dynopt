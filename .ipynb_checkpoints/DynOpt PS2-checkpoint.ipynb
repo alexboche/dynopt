{
 "cells": [
  {
   "cell_type": "code",
   "execution_count": 173,
   "metadata": {},
   "outputs": [],
   "source": [
    "import numpy as np\n",
    "import matplotlib.pyplot as plt\n",
    "from numpy import linalg as la\n",
    "from scipy.interpolate import interp1d\n",
    "\n",
    "%matplotlib inline\n",
    "\n",
    "beta = .09\n",
    "r = .02\n",
    "w = 1\n",
    "p = 2\n",
    "beta = 0.95\n",
    "z_high = 1.5\n",
    "z_low = .5\n",
    "\n",
    "Pr_LL = .5\n",
    "Pr_LH = .5\n",
    "Pr_HL = .5\n",
    "Pr_HH = .5\n",
    "N = 500\n",
    "maxiter = 1000\n",
    "xmax = 10\n"
   ]
  },
  {
   "cell_type": "code",
   "execution_count": 174,
   "metadata": {},
   "outputs": [
    {
     "data": {
      "text/plain": [
       "(2, 500)"
      ]
     },
     "execution_count": 174,
     "metadata": {},
     "output_type": "execute_result"
    }
   ],
   "source": [
    "xvals = np.linspace(.01, xmax, N)\n",
    "yvals_L = np.zeros(N) # start with the zero function\n",
    "yvals_H = np.zeros(N) # start with the zero function\n",
    "yvals = np.array([yvals_L,yvals_H]) # value function\n",
    "asset = np.array([np.zeros(N), np.zeros(N)])\n",
    "cons = np.array([np.zeros(N), np.zeros(N)])\n",
    "\n",
    "yvals.shape\n"
   ]
  },
  {
   "cell_type": "code",
   "execution_count": 175,
   "metadata": {
    "scrolled": false
   },
   "outputs": [],
   "source": [
    "tol = 1E-5\n",
    "dist = 1 # 1 is just a large value to initialize dist\n",
    "\n",
    "def u(c):\n",
    "    return (c**(1-p)-1)/(1-p)\n",
    "def g(x, a_next, V_L, V_H, z):\n",
    "   \n",
    "    if x-a_next>= 0:\n",
    "        if z == z_low:\n",
    "            #print(f\"output {u(x-a_next) + beta*(Pr_LL*V_L + Pr_LH*V_H)}\")\n",
    "            return u(x-a_next) + beta*(Pr_LL*V_L + Pr_LH*V_H)\n",
    "        \n",
    "        if z == z_high:\n",
    "            return u(x-a_next) + beta*(Pr_HL*V_L + Pr_HH*V_H)\n",
    "            # return u(x-a_next) + beta*((Pr_HL*V((1+r)*a_next + w*z_low) + Pr_HH*V((1+r)*a_next + w*z_low)))\n",
    "    else:\n",
    "        print(\"ninf\")\n",
    "        return np.NINF # return negative infinity if consumption is negative\n",
    "def sup(arr): # sup norm (max of absolute value)\n",
    "    return la.norm(arr, np.inf)\n",
    "\n"
   ]
  },
  {
   "cell_type": "code",
   "execution_count": null,
   "metadata": {},
   "outputs": [],
   "source": []
  },
  {
   "cell_type": "code",
   "execution_count": 185,
   "metadata": {
    "scrolled": true
   },
   "outputs": [],
   "source": [
    "tol = .0000001\n",
    "dist = 1\n",
    "counter = 0\n",
    "while dist > tol and counter < maxiter:\n",
    "\n",
    "    \n",
    "    new_yvals = np.copy(yvals)\n",
    "    #V = np.interp(xvals, xvals, yvals)\n",
    "    #print(f\"yvals {yvals}\")\n",
    "    \n",
    "    # for each x\n",
    "    for i in range(1,N): # starting from zero causes issues\n",
    "    # compute new value function\n",
    "        # evaluate g() at all values of a_next\n",
    "        evals_L = np.array([g(xvals[i], xvals[j], yvals[0][j], yvals[1][j], z_low) for j in range(i)])\n",
    "        evals_H = np.array([g(xvals[i], xvals[j], yvals[0][j], yvals[1][j], z_high) for j in range(i)])   \n",
    "        new_yvals[:,i] = [max(evals_L), max(evals_H)] # take maximum value of g\n",
    "        \n",
    "        # compute new assets/consumption\n",
    "        asset[:,i] = [xvals[np.argmax(evals_L)], xvals[np.argmax(evals_H)]]\n",
    "        cons[:,i] = np.array([xvals[i],xvals[i]]) - asset[:,i]\n",
    "        \n",
    "    counter +=1\n",
    "    \n",
    "    dist = max(sup(new_yvals[0] - yvals[0]), sup(new_yvals[1] - yvals[1]))\n",
    "    \n",
    "    yvals = new_yvals\n",
    "    \n",
    "    "
   ]
  },
  {
   "cell_type": "code",
   "execution_count": 177,
   "metadata": {
    "scrolled": false
   },
   "outputs": [
    {
     "data": {
      "text/plain": [
       "array(2.47246493)"
      ]
     },
     "execution_count": 177,
     "metadata": {},
     "output_type": "execute_result"
    }
   ],
   "source": [
    "# get actual evaluable functions\n",
    "asset_func_low = interp1d(xvals, asset[0])\n",
    "asset_func_high = interp1d(xvals, asset[1])\n",
    "def asset_func(x, z):\n",
    "    if z == z_low:\n",
    "        return asset_func_low(x)\n",
    "    if z == z_high:\n",
    "        return asset_func_high(x)\n",
    "    \n",
    "cons_func_low = interp1d(xvals, cons[0])\n",
    "cons_func_high = interp1d(xvals, cons[1])\n",
    "def cons_func(x, z):\n",
    "    if z == z_low:\n",
    "        return cons_func_low(x)\n",
    "    if z == z_high:\n",
    "        return cons_func_high(x)\n",
    "\n",
    "asset_func_low(5)"
   ]
  },
  {
   "cell_type": "code",
   "execution_count": 178,
   "metadata": {
    "scrolled": true
   },
   "outputs": [
    {
     "data": {
      "text/plain": [
       "[<matplotlib.lines.Line2D at 0xb1f831290>]"
      ]
     },
     "execution_count": 178,
     "metadata": {},
     "output_type": "execute_result"
    },
    {
     "data": {
      "image/png": "[encoded data removed]",
      "text/plain": [
       "<Figure size 432x288 with 1 Axes>"
      ]
     },
     "metadata": {
      "needs_background": "light"
     },
     "output_type": "display_data"
    }
   ],
   "source": [
    "plt.figure(2)\n",
    "plt.plot(xvals,yvals[1])\n"
   ]
  },
  {
   "cell_type": "code",
   "execution_count": 179,
   "metadata": {},
   "outputs": [
    {
     "name": "stdout",
     "output_type": "stream",
     "text": [
      "additional restriction does NOT bind\n"
     ]
    }
   ],
   "source": [
    "# Check that the additional restriction does not bind\n",
    "bind = False\n",
    "for i in range(N):\n",
    "    for j in range(1):\n",
    "        if (1+r)*asset[j,i] + w*1.5 >= xmax:\n",
    "            bind = True\n",
    "if bind == True:\n",
    "    print(\"additional restriction DOES bind\")\n",
    "    \n",
    "if bind == False:\n",
    "    print(\"additional restriction does NOT bind\")\n",
    "        \n",
    "\n"
   ]
  },
  {
   "cell_type": "code",
   "execution_count": 180,
   "metadata": {},
   "outputs": [
    {
     "data": {
      "text/plain": [
       "[<matplotlib.lines.Line2D at 0xb1f940f90>]"
      ]
     },
     "execution_count": 180,
     "metadata": {},
     "output_type": "execute_result"
    },
    {
     "data": {
      "image/png": "[encoded data removed]",
      "text/plain": [
       "<Figure size 432x288 with 1 Axes>"
      ]
     },
     "metadata": {
      "needs_background": "light"
     },
     "output_type": "display_data"
    }
   ],
   "source": [
    "plt.plot(xvals, cons[0]) # plot low consumption function"
   ]
  },
  {
   "cell_type": "code",
   "execution_count": 181,
   "metadata": {
    "scrolled": true
   },
   "outputs": [
    {
     "data": {
      "text/plain": [
       "[<matplotlib.lines.Line2D at 0xb1f9a5d50>]"
      ]
     },
     "execution_count": 181,
     "metadata": {},
     "output_type": "execute_result"
    },
    {
     "data": {
      "image/png": "[encoded data removed]",
      "text/plain": [
       "<Figure size 432x288 with 1 Axes>"
      ]
     },
     "metadata": {
      "needs_background": "light"
     },
     "output_type": "display_data"
    }
   ],
   "source": [
    "plt.plot(xvals, asset[0]) # plot low asset function"
   ]
  },
  {
   "cell_type": "code",
   "execution_count": 182,
   "metadata": {},
   "outputs": [],
   "source": [
    "def shock(z, Pr_LL, Pr_LH, Pr_HL, Pr_HH):\n",
    "    if z == z_low:\n",
    "        if np.random.rand() < Pr_LL:\n",
    "            z_next = z_low\n",
    "        else:\n",
    "            z_next = z_high\n",
    "    if z == z_high:\n",
    "        if np.random.rand() < Pr_HL:\n",
    "            z_next = z_low\n",
    "        else:\n",
    "            z_next = z_high\n",
    "    return z_next\n",
    "    "
   ]
  },
  {
   "cell_type": "code",
   "execution_count": 183,
   "metadata": {},
   "outputs": [
    {
     "name": "stdout",
     "output_type": "stream",
     "text": [
      "0.01\n",
      "0.01\n",
      "0.01\n",
      "0.01\n",
      "0.01\n",
      "0.01\n",
      "0.01\n",
      "0.01\n",
      "0.01\n",
      "0.01\n",
      "0.01\n",
      "0.01\n",
      "0.01\n",
      "0.01\n",
      "0.01\n",
      "0.01\n",
      "0.01\n",
      "0.01\n",
      "0.01\n",
      "0.01\n",
      "0.01\n",
      "0.01\n",
      "0.01\n",
      "0.01\n",
      "0.01\n",
      "0.01\n",
      "0.01\n",
      "0.01\n",
      "0.01\n",
      "0.01\n",
      "0.01\n",
      "0.01\n",
      "0.01\n",
      "0.01\n",
      "0.01\n",
      "0.01\n",
      "0.01\n",
      "0.01\n",
      "0.01\n",
      "0.01\n",
      "0.01\n",
      "0.01\n",
      "0.01\n",
      "0.01\n",
      "0.01\n",
      "0.01\n",
      "0.01\n",
      "0.01\n",
      "0.01\n",
      "0.01\n",
      "0.01\n",
      "0.01\n",
      "0.01\n",
      "0.01\n",
      "0.01\n",
      "0.01\n",
      "0.01\n",
      "0.01\n",
      "0.01\n",
      "0.01\n",
      "0.01\n",
      "0.01\n",
      "0.01\n",
      "0.01\n",
      "0.01\n",
      "0.01\n",
      "0.01\n",
      "0.01\n",
      "0.01\n",
      "0.01\n",
      "0.01\n",
      "0.01\n",
      "0.01\n",
      "0.01\n",
      "0.01\n",
      "0.01\n",
      "0.01\n",
      "0.01\n",
      "0.01\n",
      "0.01\n",
      "0.01\n",
      "0.01\n",
      "0.01\n",
      "0.01\n",
      "0.01\n",
      "0.01\n",
      "0.01\n",
      "0.01\n",
      "0.01\n",
      "0.01\n",
      "0.01\n",
      "0.01\n",
      "0.01\n",
      "0.01\n",
      "0.01\n",
      "0.01\n",
      "0.01\n",
      "0.01\n",
      "0.01\n",
      "0.01\n",
      "0.01\n",
      "0.01\n",
      "0.01\n",
      "0.01\n",
      "0.01\n",
      "0.01\n",
      "0.01\n",
      "0.01\n",
      "0.01\n",
      "0.01\n",
      "0.01\n",
      "0.01\n",
      "0.01\n",
      "0.01\n",
      "0.01\n",
      "0.01\n",
      "0.01\n",
      "0.01\n",
      "0.01\n",
      "0.01\n",
      "0.01\n",
      "0.01\n",
      "0.01\n",
      "0.01\n",
      "0.01\n",
      "0.01\n",
      "0.01\n",
      "0.01\n",
      "0.01\n",
      "0.01\n",
      "0.01\n",
      "0.01\n",
      "0.01\n",
      "0.01\n",
      "0.01\n",
      "0.01\n",
      "0.01\n",
      "0.01\n",
      "0.01\n",
      "0.01\n",
      "0.01\n",
      "0.01\n",
      "0.01\n",
      "0.01\n",
      "0.01\n",
      "0.01\n",
      "0.01\n",
      "0.01\n",
      "0.01\n",
      "0.01\n",
      "0.01\n",
      "0.01\n",
      "0.01\n",
      "0.01\n",
      "0.01\n",
      "0.01\n",
      "0.01\n",
      "0.01\n",
      "0.01\n",
      "0.01\n",
      "0.01\n",
      "0.01\n",
      "0.01\n",
      "0.01\n",
      "0.01\n",
      "0.01\n",
      "0.01\n",
      "0.01\n",
      "0.01\n",
      "0.01\n",
      "0.01\n",
      "0.01\n",
      "0.01\n",
      "0.01\n",
      "0.01\n",
      "0.01\n",
      "0.01\n",
      "0.01\n",
      "0.01\n",
      "0.01\n",
      "0.01\n",
      "0.01\n",
      "0.01\n",
      "0.01\n",
      "0.01\n",
      "0.01\n",
      "0.01\n",
      "0.01\n",
      "0.01\n",
      "0.01\n",
      "0.01\n",
      "0.01\n",
      "0.01\n",
      "0.01\n",
      "0.01\n",
      "0.01\n",
      "0.01\n",
      "0.01\n",
      "0.01\n"
     ]
    },
    {
     "data": {
      "text/plain": [
       "[<matplotlib.lines.Line2D at 0xb1fae6310>]"
      ]
     },
     "execution_count": 183,
     "metadata": {},
     "output_type": "execute_result"
    },
    {
     "data": {
      "image/png": "[encoded data removed]",
      "text/plain": [
       "<Figure size 432x288 with 1 Axes>"
      ]
     },
     "metadata": {
      "needs_background": "light"
     },
     "output_type": "display_data"
    }
   ],
   "source": [
    "# initialization\n",
    "asset_path = np.zeros(200); cons_path = np.zeros(200)\n",
    "shock_path = np.zeros(200); x_path = np.zeros(200); wage_path = np.zeros(200)\n",
    "# initial conditions\n",
    "asset_path[0] = a_0; x_path[0] = w; shock_path[0] = z_low; wage_path[0] = w \n",
    "\n",
    "for i in range(1, 200): # double check for OBOE\n",
    "    cons_path[i] = cons_func(x_path[i-1], shock_path[i-1])\n",
    "    asset_path[i] = asset_func(x_path[i-1], shock_path[i-1])\n",
    "    shock_path[i] = shock(shock_path[i-1], Pr_LL, Pr_LH, Pr_HL, Pr_HH)\n",
    "    wage_path[i] = w*shock_path[i]\n",
    "    x_path[i] = (1+r)*asset_path[i] + wage_path[i]\n",
    "plt.plot(np.linspace(1,200, 200), cons_path) # plot consumption\n",
    "\n",
    "\n",
    "\n",
    "\n",
    "    "
   ]
  },
  {
   "cell_type": "code",
   "execution_count": 184,
   "metadata": {},
   "outputs": [
    {
     "data": {
      "text/plain": [
       "[<matplotlib.lines.Line2D at 0xb1fb8af90>]"
      ]
     },
     "execution_count": 184,
     "metadata": {},
     "output_type": "execute_result"
    },
    {
     "data": {
      "image/png": "[encoded data removed]",
      "text/plain": [
       "<Figure size 432x288 with 1 Axes>"
      ]
     },
     "metadata": {
      "needs_background": "light"
     },
     "output_type": "display_data"
    }
   ],
   "source": [
    "plt.plot(np.linspace(1,200, 200), asset_path) # plot assets"
   ]
  },
  {
   "cell_type": "code",
   "execution_count": null,
   "metadata": {
    "scrolled": false
   },
   "outputs": [],
   "source": []
  },
  {
   "cell_type": "code",
   "execution_count": null,
   "metadata": {},
   "outputs": [],
   "source": []
  },
  {
   "cell_type": "code",
   "execution_count": null,
   "metadata": {},
   "outputs": [],
   "source": []
  },
  {
   "cell_type": "code",
   "execution_count": null,
   "metadata": {},
   "outputs": [],
   "source": []
  }
 ],
 "metadata": {
  "kernelspec": {
   "display_name": "Python 3",
   "language": "python",
   "name": "python3"
  },
  "language_info": {
   "codemirror_mode": {
    "name": "ipython",
    "version": 3
   },
   "file_extension": ".py",
   "mimetype": "text/x-python",
   "name": "python",
   "nbconvert_exporter": "python",
   "pygments_lexer": "ipython3",
   "version": "3.7.6"
  }
 },
 "nbformat": 4,
 "nbformat_minor": 2
}
